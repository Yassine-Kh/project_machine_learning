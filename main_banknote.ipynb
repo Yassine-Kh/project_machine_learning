{
 "cells": [
  {
   "cell_type": "code",
   "execution_count": 2,
   "metadata": {},
   "outputs": [],
   "source": [
    "\n",
    "from utils import *\n",
    "from models.neural_network import *\n",
    "import warnings\n",
    "from sklearn.metrics import accuracy_score\n",
    "import numpy as np\n",
    "\n",
    "warnings.filterwarnings('ignore')"
   ]
  },
  {
   "cell_type": "code",
   "execution_count": 3,
   "metadata": {},
   "outputs": [],
   "source": [
    "banknoteData = CleanData(\"https://archive.ics.uci.edu/ml/machine-learning-databases/00267/data_banknote_authentication.txt\")\n",
    "column_names = [\"variance\", \"skewness\", \"curtosis\", \"entropy\", \"classification\"]\n",
    "X_train, X_test, y_train, y_test = banknoteData.splitData(1 / 3, 42, column_names)\n"
   ]
  },
  {
   "cell_type": "code",
   "execution_count": 4,
   "metadata": {},
   "outputs": [
    {
     "name": "stdout",
     "output_type": "stream",
     "text": [
      "The neural network with the best accuracy has the parameters: layer size {(5, 2)} activation function {'logistic'} learning rate {0.001} with an accuracy score of : 1.0\n"
     ]
    }
   ],
   "source": [
    "neuralModels = []\n",
    "neuralMetric = []\n",
    "\n",
    "layers_sizes= [(5,2),(4,2),(6,2),(3,2),(4,4,2)]\n",
    "activations=[\"logistic\", \"tanh\"]\n",
    "learning_rate=np.linspace(0.001,0.1,10)\n",
    "\n",
    "\n",
    "for layerSize in layers_sizes:\n",
    "    for activation in activations:\n",
    "        for lr in learning_rate:\n",
    "            modelNeural = NeuralNetwork(solver=\"lbfgs\", layers_sizes=layerSize, activation=activation, learning_rate=lr)\n",
    "            neuralModels.append((layerSize, activation, lr))\n",
    "            y_pred=modelNeural.fitAndScore(X_train, X_test, y_train, y_test)\n",
    "            neuralMetric.append(accuracy_score(y_test,y_pred))\n",
    "max_value = max(neuralMetric)\n",
    "max_index = neuralMetric.index(max_value)\n",
    "\n",
    "print(\"The neural network with the best accuracy has the parameters: layer size\", {neuralModels[max_index][0]}, \"activation function\",{neuralModels[max_index][1]}, \"learning rate\",{neuralModels[max_index][2]}, \"with an accuracy score of :\", max_value)\n",
    "\n",
    "            \n"
   ]
  }
 ],
 "metadata": {
  "interpreter": {
   "hash": "9ffc7a7a309c64630ee0f15650faac6797805b97797853305f4920937eb630e3"
  },
  "kernelspec": {
   "display_name": "Python 3.7.4 64-bit (conda)",
   "language": "python",
   "name": "python3"
  },
  "language_info": {
   "codemirror_mode": {
    "name": "ipython",
    "version": 3
   },
   "file_extension": ".py",
   "mimetype": "text/x-python",
   "name": "python",
   "nbconvert_exporter": "python",
   "pygments_lexer": "ipython3",
   "version": "3.7.4"
  },
  "orig_nbformat": 4
 },
 "nbformat": 4,
 "nbformat_minor": 2
}
