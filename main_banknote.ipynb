{
 "cells": [
  {
   "cell_type": "code",
   "execution_count": 1,
   "metadata": {},
   "outputs": [],
   "source": [
    "\n",
    "from utils import *\n",
    "from models.neural_network import *\n",
    "import warnings\n",
    "import numpy as np\n",
    "from models.svm import *\n",
    "\n",
    "warnings.filterwarnings('ignore')"
   ]
  },
  {
   "cell_type": "code",
   "execution_count": 2,
   "metadata": {},
   "outputs": [],
   "source": [
    "banknoteData = CleanData(\"https://archive.ics.uci.edu/ml/machine-learning-databases/00267/data_banknote_authentication.txt\")\n",
    "column_names = [\"variance\", \"skewness\", \"curtosis\", \"entropy\", \"classification\"]\n",
    "X_train, X_test, y_train, y_test = banknoteData.splitData(1 / 3, 42, column_names)\n"
   ]
  },
  {
   "cell_type": "code",
   "execution_count": 3,
   "metadata": {},
   "outputs": [],
   "source": [
    "layers_sizes= [(5,2),(4,2),(6,2),(3,2),(4,4,2)]\n",
    "activations=[\"logistic\", \"tanh\"]\n",
    "learning_rate=np.linspace(0.001,0.1,10)\n",
    "bestParameters(X_train, X_test, y_train, y_test, layers_sizes,activations,learning_rate)"
   ]
  },
  {
   "cell_type": "code",
   "execution_count": 4,
   "metadata": {},
   "outputs": [
    {
     "name": "stdout",
     "output_type": "stream",
     "text": [
      "Classification report :\n",
      "               precision    recall  f1-score   support\n",
      "\n",
      "           0       0.92      0.98      0.95       258\n",
      "           1       0.97      0.89      0.93       199\n",
      "\n",
      "    accuracy                           0.94       457\n",
      "   macro avg       0.94      0.93      0.94       457\n",
      "weighted avg       0.94      0.94      0.94       457\n",
      "\n"
     ]
    },
    {
     "data": {
      "text/plain": [
       "'The SVM model with the best accuracy has the parameters: kernel: linear, gamma: scale, tol 0.001, with an accuracy score of : 0.9387308533916849'"
      ]
     },
     "execution_count": 4,
     "metadata": {},
     "output_type": "execute_result"
    }
   ],
   "source": [
    "kernel=[\"linear\", \"poly\", \"rbf\", \"sigmoid\"] \n",
    "gamma=[\"scale\", \"auto\"]\n",
    "tol=np.linspace(0.001,0.1,10)\n",
    "bestParameters(X_train, X_test, y_train, y_test, kernel,gamma,tol)"
   ]
  }
 ],
 "metadata": {
  "interpreter": {
   "hash": "9ffc7a7a309c64630ee0f15650faac6797805b97797853305f4920937eb630e3"
  },
  "kernelspec": {
   "display_name": "Python 3.7.4 64-bit (conda)",
   "language": "python",
   "name": "python3"
  },
  "language_info": {
   "codemirror_mode": {
    "name": "ipython",
    "version": 3
   },
   "file_extension": ".py",
   "mimetype": "text/x-python",
   "name": "python",
   "nbconvert_exporter": "python",
   "pygments_lexer": "ipython3",
   "version": "3.7.4"
  },
  "orig_nbformat": 4
 },
 "nbformat": 4,
 "nbformat_minor": 2
}
